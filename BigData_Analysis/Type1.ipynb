version https://git-lfs.github.com/spec/v1
oid sha256:e7885b2ae7534798e9e52285bdd955719bb0a50702a5535ca64c1cba0e592ac9
size 349226
